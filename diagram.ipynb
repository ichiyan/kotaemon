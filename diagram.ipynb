{
 "cells": [
  {
   "cell_type": "code",
   "execution_count": 1,
   "id": "bd63adf8",
   "metadata": {},
   "outputs": [],
   "source": [
    "from graphviz import Digraph"
   ]
  },
  {
   "cell_type": "code",
   "execution_count": 2,
   "id": "a2221a80",
   "metadata": {},
   "outputs": [],
   "source": [
    "def generate_socratic_flowchart(output_path=\"socratic_pipeline\"):\n",
    "    g = Digraph(\"SocraticPipeline\", format=\"png\")\n",
    "\n",
    "    # === Global Styles ===\n",
    "    g.attr(rankdir=\"TD\", bgcolor=\"white\", ranksep=\"0.3\")\n",
    "    g.attr(\"node\", fontname=\"Helvetica\", fontsize=\"11\")\n",
    "\n",
    "    # === Node Definitions ===\n",
    "    # Start / End\n",
    "    g.node(\"start\", \"Start\", shape=\"ellipse\", style=\"filled\", fillcolor=\"#222\", fontcolor=\"white\")\n",
    "    g.node(\"end\", \"End\", shape=\"ellipse\", style=\"filled\", fillcolor=\"#222\", fontcolor=\"white\")\n",
    "\n",
    "    # Process nodes\n",
    "    process_style = dict(shape=\"rectangle\", style=\"filled\", fillcolor=\"#9ccff0\", color=\"#357ca5\")\n",
    "\n",
    "    g.node(\"greet\", \"show greeting and modes\", **process_style)\n",
    "    g.node(\"autoq\", label=\\\n",
    "        \"<<B>DocumentRetrieval + LLM:</B><BR/>generate docs summary (GT context)>\", **process_style)\n",
    "    g.node(\"context\", label=\\\n",
    "        \"<<B>ReAct Agent:</B><BR/>generate answer (GT context) via tools>\", **process_style)\n",
    "    g.node(\"question\", label=\\\n",
    "        \"<<B>Socratic Agent:</B><BR/>generate socratic query>\", **process_style)\n",
    "    g.node(\"evaluate\", label=\\\n",
    "        \"<<B>Evaluation Agent:</B><BR/>evaluate user response>\", **process_style)\n",
    "    g.node(\"reflect\", label=\\\n",
    "        \"<<B>Reflection Agent:</B><BR/>summarize and assess learning>\", **process_style)\n",
    "\n",
    "    # I/O nodes\n",
    "    io_style = dict(shape=\"parallelogram\", style=\"filled\", fillcolor=\"#a8e6cf\", color=\"#379683\")\n",
    "    g.node(\"user_choice\", \"query mode\", **io_style)\n",
    "    g.node(\"user_resp\", \"user response\", **io_style)\n",
    "\n",
    "    # Decision nodes\n",
    "    decision_style = dict(shape=\"diamond\", style=\"filled\", fillcolor=\"#f5d547\", color=\"#c9a106\")\n",
    "    g.node(\"decide_mode\", \"mode\", **decision_style)\n",
    "    g.node(\"decide_next\", \"decision\", **decision_style)\n",
    "\n",
    "    # === Edges ===\n",
    "    g.edge(\"start\", \"greet\")\n",
    "    g.edge(\"greet\", \"user_choice\")\n",
    "    g.edge(\"user_choice\", \"decide_mode\")\n",
    "    g.edge(\"decide_mode\", \"autoq\", label=\"auto\")\n",
    "    g.edge(\"decide_mode\", \"context\", label=\"custom (user provides query)\")\n",
    "    g.edge(\"autoq\", \"question\")\n",
    "    g.edge(\"context\", \"question\")\n",
    "    g.edge(\"question\", \"user_resp\")\n",
    "    g.edge(\"user_resp\", \"evaluate\")\n",
    "    g.edge(\"evaluate\", \"decide_next\")\n",
    "    g.edge(\"decide_next\", \"question\", label=\" continue\")\n",
    "    g.edge(\"decide_next\", \"reflect\", label=\" reflect\")\n",
    "    g.edge(\"reflect\", \"end\")\n",
    "\n",
    "    # === Output File ===\n",
    "    g.render(filename=output_path, cleanup=True)\n",
    "    print(f\"✅ Flowchart generated: {output_path}.png\")"
   ]
  },
  {
   "cell_type": "code",
   "execution_count": 3,
   "id": "a246b861",
   "metadata": {},
   "outputs": [
    {
     "name": "stdout",
     "output_type": "stream",
     "text": [
      "✅ Flowchart generated: socratic_pipeline_flowchart.png\n"
     ]
    }
   ],
   "source": [
    "generate_socratic_flowchart(\"socratic_pipeline_flowchart\")"
   ]
  }
 ],
 "metadata": {
  "kernelspec": {
   "display_name": "kotaemon",
   "language": "python",
   "name": "python3"
  },
  "language_info": {
   "codemirror_mode": {
    "name": "ipython",
    "version": 3
   },
   "file_extension": ".py",
   "mimetype": "text/x-python",
   "name": "python",
   "nbconvert_exporter": "python",
   "pygments_lexer": "ipython3",
   "version": "3.10.18"
  }
 },
 "nbformat": 4,
 "nbformat_minor": 5
}
